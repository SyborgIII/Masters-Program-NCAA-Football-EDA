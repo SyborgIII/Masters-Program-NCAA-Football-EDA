{
 "cells": [
  {
   "cell_type": "markdown",
   "source": [
    "The cell bellow if for data cleansing and gathering"
   ],
   "metadata": {
    "collapsed": false
   },
   "id": "56bc3df540045b49"
  },
  {
   "cell_type": "code",
   "execution_count": 55,
   "outputs": [],
   "source": [
    "import pandas as pd\n",
    "import numpy as np\n",
    "import matplotlib.pyplot as plt\n",
    "import seaborn as sns\n",
    "import statsmodels.api as sm\n",
    "import plotly.express as px\n",
    "\n",
    "# data cleaning and gathering\n",
    "cfb14Df = pd.read_csv('cfb14.csv')\n",
    "cfb15Df = pd.read_csv('cfb15.csv')\n",
    "cfb16Df = pd.read_csv('cfb16.csv')\n",
    "cfb17Df = pd.read_csv('cfb17.csv')\n",
    "cfb18Df = pd.read_csv('cfb18.csv')\n",
    "cfb19Df = pd.read_csv('cfb19.csv')\n",
    "cfb20Df = pd.read_csv('cfb20.csv')\n",
    "\n",
    "all_df_dictionary = {\n",
    "    'cfb14': cfb14Df,\n",
    "    'cfb15': cfb15Df,\n",
    "    'cfb16': cfb16Df,\n",
    "    'cfb17': cfb17Df,\n",
    "    'cfb18': cfb18Df,\n",
    "    'cfb19': cfb19Df,\n",
    "    'cfb20':cfb20Df,\n",
    "}\n"
   ],
   "metadata": {
    "collapsed": false,
    "ExecuteTime": {
     "end_time": "2024-01-24T18:56:31.164020200Z",
     "start_time": "2024-01-24T18:56:31.124868700Z"
    }
   },
   "id": "3312ab60f2d65c3c"
  },
  {
   "cell_type": "code",
   "execution_count": 56,
   "outputs": [
    {
     "data": {
      "text/plain": "       Opp.Pass.Yds.Allowed  Scoring.Off.Rank  Opp.4th.Attempt   Sack.Rank  \\\ncount            859.000000        859.000000       859.000000  859.000000   \nmean            2756.445867         64.176950        19.896391   63.820722   \nstd              588.603682         37.055919         6.115228   36.838626   \nmin              586.000000          1.000000         3.000000    1.000000   \n25%             2464.500000         32.000000        16.000000   32.000000   \n50%             2803.000000         64.000000        20.000000   64.000000   \n75%             3138.500000         96.000000        24.000000   96.000000   \nmax             4406.000000        130.000000        41.000000  130.000000   \n\n       Touchdowns.Allowed  Redzone.Points.Allowed  Pass.Yards.Per.Game  \\\ncount          859.000000              859.000000           859.000000   \nmean            41.784633                0.827198           232.952386   \nstd             12.342110                0.063914            60.915668   \nmin              6.000000                0.579000            27.800000   \n25%             34.000000                0.788000           196.000000   \n50%             42.000000                0.833000           231.500000   \n75%             50.000000                0.872000           267.650000   \nmax             86.000000                1.000000           477.700000   \n\n       Redzone.Points  Redzone.Def.Rank  Opp.First.Down.Passes  ...  \\\ncount      859.000000        859.000000             859.000000  ...   \nmean         0.831754         63.562282             120.523865  ...   \nstd          0.066953         37.108947              26.228249  ...   \nmin          0.500000          1.000000              26.000000  ...   \n25%          0.789000         32.000000             107.000000  ...   \n50%          0.838000         62.000000             124.000000  ...   \n75%          0.881000         96.000000             136.000000  ...   \nmax          1.000000        130.000000             203.000000  ...   \n\n       Points.Per.Game  Punt.Return.Rank  Opp.First.Down.Runs  \\\ncount       859.000000        859.000000           859.000000   \nmean         29.137369         64.237485           106.607683   \nstd           7.232237         36.931038            26.656382   \nmin           3.000000          1.000000            19.000000   \n25%          24.500000         33.000000            91.000000   \n50%          28.800000         64.000000           106.000000   \n75%          33.700000         96.000000           123.000000   \nmax          49.800000        130.000000           190.000000   \n\n       Opp.Redzone.Scores  X4th.Percent  X4th.Attempts  Defensive.Points  \\\ncount          859.000000    859.000000     859.000000        859.000000   \nmean            36.328289      0.521087      10.384168          0.053551   \nstd              9.453692      0.130080       4.679622          0.235381   \nmin              6.000000      0.000000       0.000000          0.000000   \n25%             30.000000      0.442000       7.000000          0.000000   \n50%             37.000000      0.524000      10.000000          0.000000   \n75%             42.000000      0.600000      13.000000          0.000000   \nmax             62.000000      1.000000      31.000000          2.000000   \n\n       Opponent.4th.Percent  Opp.3rd.Attempt  Rushing.Def.Rank  \ncount            859.000000       859.000000        859.000000  \nmean               0.512827       175.330617         63.769499  \nstd                0.129960        33.104801         36.732930  \nmin                0.000000        39.000000          1.000000  \n25%                0.431000       163.000000         32.000000  \n50%                0.517000       180.000000         63.000000  \n75%                0.600000       195.000000         95.000000  \nmax                1.000000       242.000000        130.000000  \n\n[8 rows x 142 columns]",
      "text/html": "<div>\n<style scoped>\n    .dataframe tbody tr th:only-of-type {\n        vertical-align: middle;\n    }\n\n    .dataframe tbody tr th {\n        vertical-align: top;\n    }\n\n    .dataframe thead th {\n        text-align: right;\n    }\n</style>\n<table border=\"1\" class=\"dataframe\">\n  <thead>\n    <tr style=\"text-align: right;\">\n      <th></th>\n      <th>Opp.Pass.Yds.Allowed</th>\n      <th>Scoring.Off.Rank</th>\n      <th>Opp.4th.Attempt</th>\n      <th>Sack.Rank</th>\n      <th>Touchdowns.Allowed</th>\n      <th>Redzone.Points.Allowed</th>\n      <th>Pass.Yards.Per.Game</th>\n      <th>Redzone.Points</th>\n      <th>Redzone.Def.Rank</th>\n      <th>Opp.First.Down.Passes</th>\n      <th>...</th>\n      <th>Points.Per.Game</th>\n      <th>Punt.Return.Rank</th>\n      <th>Opp.First.Down.Runs</th>\n      <th>Opp.Redzone.Scores</th>\n      <th>X4th.Percent</th>\n      <th>X4th.Attempts</th>\n      <th>Defensive.Points</th>\n      <th>Opponent.4th.Percent</th>\n      <th>Opp.3rd.Attempt</th>\n      <th>Rushing.Def.Rank</th>\n    </tr>\n  </thead>\n  <tbody>\n    <tr>\n      <th>count</th>\n      <td>859.000000</td>\n      <td>859.000000</td>\n      <td>859.000000</td>\n      <td>859.000000</td>\n      <td>859.000000</td>\n      <td>859.000000</td>\n      <td>859.000000</td>\n      <td>859.000000</td>\n      <td>859.000000</td>\n      <td>859.000000</td>\n      <td>...</td>\n      <td>859.000000</td>\n      <td>859.000000</td>\n      <td>859.000000</td>\n      <td>859.000000</td>\n      <td>859.000000</td>\n      <td>859.000000</td>\n      <td>859.000000</td>\n      <td>859.000000</td>\n      <td>859.000000</td>\n      <td>859.000000</td>\n    </tr>\n    <tr>\n      <th>mean</th>\n      <td>2756.445867</td>\n      <td>64.176950</td>\n      <td>19.896391</td>\n      <td>63.820722</td>\n      <td>41.784633</td>\n      <td>0.827198</td>\n      <td>232.952386</td>\n      <td>0.831754</td>\n      <td>63.562282</td>\n      <td>120.523865</td>\n      <td>...</td>\n      <td>29.137369</td>\n      <td>64.237485</td>\n      <td>106.607683</td>\n      <td>36.328289</td>\n      <td>0.521087</td>\n      <td>10.384168</td>\n      <td>0.053551</td>\n      <td>0.512827</td>\n      <td>175.330617</td>\n      <td>63.769499</td>\n    </tr>\n    <tr>\n      <th>std</th>\n      <td>588.603682</td>\n      <td>37.055919</td>\n      <td>6.115228</td>\n      <td>36.838626</td>\n      <td>12.342110</td>\n      <td>0.063914</td>\n      <td>60.915668</td>\n      <td>0.066953</td>\n      <td>37.108947</td>\n      <td>26.228249</td>\n      <td>...</td>\n      <td>7.232237</td>\n      <td>36.931038</td>\n      <td>26.656382</td>\n      <td>9.453692</td>\n      <td>0.130080</td>\n      <td>4.679622</td>\n      <td>0.235381</td>\n      <td>0.129960</td>\n      <td>33.104801</td>\n      <td>36.732930</td>\n    </tr>\n    <tr>\n      <th>min</th>\n      <td>586.000000</td>\n      <td>1.000000</td>\n      <td>3.000000</td>\n      <td>1.000000</td>\n      <td>6.000000</td>\n      <td>0.579000</td>\n      <td>27.800000</td>\n      <td>0.500000</td>\n      <td>1.000000</td>\n      <td>26.000000</td>\n      <td>...</td>\n      <td>3.000000</td>\n      <td>1.000000</td>\n      <td>19.000000</td>\n      <td>6.000000</td>\n      <td>0.000000</td>\n      <td>0.000000</td>\n      <td>0.000000</td>\n      <td>0.000000</td>\n      <td>39.000000</td>\n      <td>1.000000</td>\n    </tr>\n    <tr>\n      <th>25%</th>\n      <td>2464.500000</td>\n      <td>32.000000</td>\n      <td>16.000000</td>\n      <td>32.000000</td>\n      <td>34.000000</td>\n      <td>0.788000</td>\n      <td>196.000000</td>\n      <td>0.789000</td>\n      <td>32.000000</td>\n      <td>107.000000</td>\n      <td>...</td>\n      <td>24.500000</td>\n      <td>33.000000</td>\n      <td>91.000000</td>\n      <td>30.000000</td>\n      <td>0.442000</td>\n      <td>7.000000</td>\n      <td>0.000000</td>\n      <td>0.431000</td>\n      <td>163.000000</td>\n      <td>32.000000</td>\n    </tr>\n    <tr>\n      <th>50%</th>\n      <td>2803.000000</td>\n      <td>64.000000</td>\n      <td>20.000000</td>\n      <td>64.000000</td>\n      <td>42.000000</td>\n      <td>0.833000</td>\n      <td>231.500000</td>\n      <td>0.838000</td>\n      <td>62.000000</td>\n      <td>124.000000</td>\n      <td>...</td>\n      <td>28.800000</td>\n      <td>64.000000</td>\n      <td>106.000000</td>\n      <td>37.000000</td>\n      <td>0.524000</td>\n      <td>10.000000</td>\n      <td>0.000000</td>\n      <td>0.517000</td>\n      <td>180.000000</td>\n      <td>63.000000</td>\n    </tr>\n    <tr>\n      <th>75%</th>\n      <td>3138.500000</td>\n      <td>96.000000</td>\n      <td>24.000000</td>\n      <td>96.000000</td>\n      <td>50.000000</td>\n      <td>0.872000</td>\n      <td>267.650000</td>\n      <td>0.881000</td>\n      <td>96.000000</td>\n      <td>136.000000</td>\n      <td>...</td>\n      <td>33.700000</td>\n      <td>96.000000</td>\n      <td>123.000000</td>\n      <td>42.000000</td>\n      <td>0.600000</td>\n      <td>13.000000</td>\n      <td>0.000000</td>\n      <td>0.600000</td>\n      <td>195.000000</td>\n      <td>95.000000</td>\n    </tr>\n    <tr>\n      <th>max</th>\n      <td>4406.000000</td>\n      <td>130.000000</td>\n      <td>41.000000</td>\n      <td>130.000000</td>\n      <td>86.000000</td>\n      <td>1.000000</td>\n      <td>477.700000</td>\n      <td>1.000000</td>\n      <td>130.000000</td>\n      <td>203.000000</td>\n      <td>...</td>\n      <td>49.800000</td>\n      <td>130.000000</td>\n      <td>190.000000</td>\n      <td>62.000000</td>\n      <td>1.000000</td>\n      <td>31.000000</td>\n      <td>2.000000</td>\n      <td>1.000000</td>\n      <td>242.000000</td>\n      <td>130.000000</td>\n    </tr>\n  </tbody>\n</table>\n<p>8 rows × 142 columns</p>\n</div>"
     },
     "execution_count": 56,
     "metadata": {},
     "output_type": "execute_result"
    }
   ],
   "source": [
    "# Assuming dataframes_dict is your dictionary of DataFrames\n",
    "dataframes_list = list(all_df_dictionary.values())\n",
    "\n",
    "# Find common columns among all DataFrames\n",
    "common_columns = list(set.intersection(*(set(df.columns) for df in dataframes_list)))\n",
    "\n",
    "# Create a new DataFrame with only the common columns\n",
    "new_df = pd.concat([df[common_columns] for df in dataframes_list], ignore_index=True)\n",
    "\n",
    "# Display the new DataFrame\n",
    "new_df.describe()"
   ],
   "metadata": {
    "collapsed": false,
    "ExecuteTime": {
     "end_time": "2024-01-24T18:56:31.297117900Z",
     "start_time": "2024-01-24T18:56:31.165020500Z"
    }
   },
   "id": "d74e3f1028817f3e"
  },
  {
   "cell_type": "code",
   "execution_count": 56,
   "outputs": [],
   "source": [],
   "metadata": {
    "collapsed": false,
    "ExecuteTime": {
     "end_time": "2024-01-24T18:56:31.299460300Z",
     "start_time": "2024-01-24T18:56:31.296658900Z"
    }
   },
   "id": "6035848cb33627b7"
  }
 ],
 "metadata": {
  "kernelspec": {
   "display_name": "Python 3",
   "language": "python",
   "name": "python3"
  },
  "language_info": {
   "codemirror_mode": {
    "name": "ipython",
    "version": 2
   },
   "file_extension": ".py",
   "mimetype": "text/x-python",
   "name": "python",
   "nbconvert_exporter": "python",
   "pygments_lexer": "ipython2",
   "version": "2.7.6"
  }
 },
 "nbformat": 4,
 "nbformat_minor": 5
}
